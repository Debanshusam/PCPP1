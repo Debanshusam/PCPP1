{
 "cells": [
  {
   "cell_type": "code",
   "execution_count": 7,
   "metadata": {},
   "outputs": [
    {
     "name": "stdout",
     "output_type": "stream",
     "text": [
      "<sqlite3.Cursor object at 0x000002DA022A92D0>\n",
      "(1, 'debansh', 945)\n",
      "(2, 'dsfbsdf', 46346)\n",
      "(3, 'sdfhrs', 345643)\n",
      "(4, 'hfdrfth', 756875678)\n",
      "(5, 'zxvsdv', 4547)\n",
      "(6, 'hello', 74567)\n"
     ]
    }
   ],
   "source": [
    "#Lab 2.1\n",
    "import sqlite3\n",
    "\n",
    "class TODO :\n",
    "\tdef __init__(self):\n",
    "\t\tpass\n",
    "\n",
    "\tdef db_conn(self):\n",
    "\t\tself.conn=sqlite3.connect(\"todo.db\")\n",
    "\t\treturn(self.conn)\n",
    "\n",
    "\tdef entertask(self):\n",
    "\t\ttaskdetail=input(\"Enter task name:\")\n",
    "\t\tif len(taskdetail) >0:\n",
    "\t\t\tpriority=int(input(\"Enter priority:\"))\n",
    "\t\t\tif priority>1:\n",
    "\t\t\t\tself.conn=self.db_conn()\n",
    "\t\t\t\tself.cur=self.conn.cursor()\n",
    "\t\t\t\tself.cur.execute('''Create Table if not exists tasks \n",
    "\t\t\t\t(id INTEGER PRIMARY KEY ,\n",
    "\t\t\t\tTask_Name VARCHAR(255) UNIQUE NOT NULL, \n",
    "\t\t\t\tPriority INTEGER NOT NULL);\n",
    "\t\t\t\t''')\n",
    "\t\t\t\tprint( \"Table step completed\")\n",
    "\t\t\t\tself.cur.execute('''INSERT INTO tasks \n",
    "\t\t\t\t(Task_Name,Priority) values (?,?)''',(taskdetail,priority))\n",
    "\t\t\t\tself.conn.commit()\n",
    "\t\t\t\tself.conn.close()\n",
    "\t\t\telse:\n",
    "\t\t\t\tprint(\"priority cannot be less than -1,Enter Details again\")\n",
    "\t\t\t\tself.entertask()\t\n",
    "\n",
    "\tdef find_task(self,taskname):\n",
    "\t\tself.conn=self.db_conn()\n",
    "\t\tself.cur=self.conn.cursor()\n",
    "\t\top=self.cur.execute('''Select * from tasks where Task_Name = ?''',[taskname])\n",
    "\t\tfor i in op:\n",
    "\t\t\tprint(i)\n",
    "\t\tself.conn.close()\n",
    "\n",
    "\tdef show_tasks(self):\n",
    "\t\tself.conn=self.db_conn()\n",
    "\t\tself.cur=self.conn.cursor()\n",
    "\t\talldata=self.cur.execute(''' Select * from tasks ;''')\n",
    "\t\tprint(alldata)\n",
    "\t\trows=self.cur.fetchall()\n",
    "\t\tself.conn.close()\n",
    "\t\t\n",
    "\t\tif len(rows) ==0:\n",
    "\n",
    "\t\t\treturn None\n",
    "\t\telse:\n",
    "\t\t\tfor  rw in rows:\n",
    "\t\t\t\tprint(rw)\n",
    "\n",
    "\n",
    "test=TODO()\n",
    "# test.entertask()\n",
    "# test.find_task(\"hello\")\n",
    "test.show_tasks()\n"
   ]
  },
  {
   "cell_type": "code",
   "execution_count": null,
   "metadata": {},
   "outputs": [],
   "source": []
  },
  {
   "cell_type": "code",
   "execution_count": null,
   "metadata": {},
   "outputs": [],
   "source": [
    "#sqlite3 – inserting data (part 3\n",
    "\n",
    "import sqlite3\n",
    "\n",
    "conn = sqlite3.connect('todo.db')\n",
    "c = conn.cursor()\n",
    "c.execute('''CREATE TABLE IF NOT EXISTS tasks (\n",
    "id INTEGER PRIMARY KEY,\n",
    "name TEXT NOT NULL,\n",
    "priority INTEGER NOT NULL\n",
    ");''')\n",
    "c.execute('INSERT INTO tasks (name, priority) VALUES (?,?)', ('My first task', 1))\n",
    "conn.commit()\n",
    "conn.close()"
   ]
  },
  {
   "cell_type": "code",
   "execution_count": null,
   "metadata": {},
   "outputs": [],
   "source": [
    "#sqlite3 – the executemany() method\n",
    "import sqlite3\n",
    "\n",
    "conn = sqlite3.connect('todo.db')\n",
    "c = conn.cursor()\n",
    "c.execute('''CREATE TABLE IF NOT EXISTS tasks (\n",
    "id INTEGER PRIMARY KEY,\n",
    "name TEXT NOT NULL,\n",
    "priority INTEGER NOT NULL\n",
    ");''')\n",
    "tasks = [\n",
    "    ('My first task', 1),\n",
    "    ('My second task', 5),\n",
    "    ('My third task', 10),\n",
    "]\n",
    "c.executemany('INSERT INTO tasks (name, priority) VALUES (?,?)', tasks)\n",
    "conn.commit()\n",
    "conn.close()\n"
   ]
  },
  {
   "cell_type": "code",
   "execution_count": null,
   "metadata": {},
   "outputs": [],
   "source": [
    "#Application refactoring\n",
    "\n",
    "import sqlite3\n",
    "\n",
    "class Todo:\n",
    "    def __init__(self):\n",
    "        self.conn = sqlite3.connect('todo.db')\n",
    "        self.c = self.conn.cursor()\n",
    "        self.create_task_table()\n",
    "        \n",
    "    def create_task_table(self):\n",
    "        self.c.execute('''CREATE TABLE IF NOT EXISTS tasks (\n",
    "                     id INTEGER PRIMARY KEY,\n",
    "                     name TEXT NOT NULL,\n",
    "                     priority INTEGER NOT NULL\n",
    "                     );''')\n",
    "    \n",
    "    def add_task(self):\n",
    "        name = input('Enter task name: ')\n",
    "        priority = int(input('Enter priority: '))\n",
    "        \n",
    "        self.c.execute('INSERT INTO tasks (name, priority) VALUES (?,?)', (name, priority))\n",
    "        self.conn.commit()\n",
    "\n",
    "app = Todo()\n",
    "app.add_task()\n"
   ]
  },
  {
   "cell_type": "code",
   "execution_count": null,
   "metadata": {},
   "outputs": [],
   "source": [
    "#sqlite3 – reading data (part 2)\n",
    "import sqlite3\n",
    "\n",
    "conn = sqlite3.connect('todo.db')\n",
    "c = conn.cursor()\n",
    "for row in c.execute('SELECT * FROM tasks'):\n",
    "    print(row)\n",
    "conn.close()\n"
   ]
  },
  {
   "cell_type": "code",
   "execution_count": null,
   "metadata": {},
   "outputs": [],
   "source": [
    "# sqlite3 – reading data (part 3)\n",
    "import sqlite3\n",
    "\n",
    "conn = sqlite3.connect('todo.db')\n",
    "c = conn.cursor()\n",
    "c.execute('SELECT * FROM tasks')\n",
    "rows = c.fetchall()\n",
    "for row in rows:\n",
    "    print(row)\n",
    "conn.close()"
   ]
  },
  {
   "cell_type": "code",
   "execution_count": null,
   "metadata": {},
   "outputs": [],
   "source": [
    "\n",
    "# sqlite3 – reading data (part 4)\n",
    "import sqlite3\n",
    "\n",
    "conn = sqlite3.connect('todo.db')\n",
    "c = conn.cursor()\n",
    "c.execute('SELECT * FROM tasks')\n",
    "row = c.fetchone()\n",
    "print(row)\n",
    "row = c.fetchone()\n",
    "print(row)\n",
    "conn.close()\n"
   ]
  },
  {
   "cell_type": "code",
   "execution_count": null,
   "metadata": {},
   "outputs": [],
   "source": [
    "\n",
    "# sqlite3 – updating data\n",
    "import sqlite3\n",
    "\n",
    "conn = sqlite3.connect('todo.db')\n",
    "c = conn.cursor()\n",
    "c.execute('UPDATE tasks SET priority = ? WHERE id = ?', (20, 1))\n",
    "c.commit()\n",
    "c.close()\n"
   ]
  },
  {
   "cell_type": "code",
   "execution_count": null,
   "metadata": {},
   "outputs": [],
   "source": []
  }
 ],
 "metadata": {
  "kernelspec": {
   "display_name": "Python 3.9.12 ('base')",
   "language": "python",
   "name": "python3"
  },
  "language_info": {
   "codemirror_mode": {
    "name": "ipython",
    "version": 3
   },
   "file_extension": ".py",
   "mimetype": "text/x-python",
   "name": "python",
   "nbconvert_exporter": "python",
   "pygments_lexer": "ipython3",
   "version": "3.9.12"
  },
  "orig_nbformat": 4,
  "vscode": {
   "interpreter": {
    "hash": "ad2bdc8ecc057115af97d19610ffacc2b4e99fae6737bb82f5d7fb13d2f2c186"
   }
  }
 },
 "nbformat": 4,
 "nbformat_minor": 2
}
